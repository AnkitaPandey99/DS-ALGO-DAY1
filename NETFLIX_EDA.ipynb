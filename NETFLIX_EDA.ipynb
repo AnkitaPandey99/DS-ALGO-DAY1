{
  "nbformat": 4,
  "nbformat_minor": 0,
  "metadata": {
    "colab": {
      "name": "NETFLIX_EDA.ipynb",
      "provenance": [],
      "collapsed_sections": [],
      "authorship_tag": "ABX9TyMfcgY9LbY/7GcJjvSpP+Io",
      "include_colab_link": true
    },
    "kernelspec": {
      "name": "python3",
      "display_name": "Python 3"
    },
    "language_info": {
      "name": "python"
    }
  },
  "cells": [
    {
      "cell_type": "markdown",
      "metadata": {
        "id": "view-in-github",
        "colab_type": "text"
      },
      "source": [
        "<a href=\"https://colab.research.google.com/github/AnkitaPandey99/DS-ALGO-DAY1/blob/main/NETFLIX_EDA.ipynb\" target=\"_parent\"><img src=\"https://colab.research.google.com/assets/colab-badge.svg\" alt=\"Open In Colab\"/></a>"
      ]
    },
    {
      "cell_type": "markdown",
      "metadata": {
        "id": "JuQGP20Re2fl"
      },
      "source": [
        "# EDA ON NETFLIX DATASET\n"
      ]
    },
    {
      "cell_type": "code",
      "metadata": {
        "id": "oIn1aBf7fKeI"
      },
      "source": [
        "import pandas as pd\n",
        "import numpy as np\n",
        "import matplotlib.pyplot as plt\n",
        "import seaborn as sns"
      ],
      "execution_count": 1,
      "outputs": []
    },
    {
      "cell_type": "code",
      "metadata": {
        "id": "qwmI6Durfd-m"
      },
      "source": [
        "df = pd.read_csv(\"/content/netflix_titles_nov_2019.csv\")"
      ],
      "execution_count": 2,
      "outputs": []
    },
    {
      "cell_type": "code",
      "metadata": {
        "colab": {
          "base_uri": "https://localhost:8080/",
          "height": 391
        },
        "id": "2Wiijn3xfp2D",
        "outputId": "c4d27c2a-0b97-4962-d785-28f760e0fb09"
      },
      "source": [
        "df.head()"
      ],
      "execution_count": 3,
      "outputs": [
        {
          "output_type": "execute_result",
          "data": {
            "text/html": [
              "<div>\n",
              "<style scoped>\n",
              "    .dataframe tbody tr th:only-of-type {\n",
              "        vertical-align: middle;\n",
              "    }\n",
              "\n",
              "    .dataframe tbody tr th {\n",
              "        vertical-align: top;\n",
              "    }\n",
              "\n",
              "    .dataframe thead th {\n",
              "        text-align: right;\n",
              "    }\n",
              "</style>\n",
              "<table border=\"1\" class=\"dataframe\">\n",
              "  <thead>\n",
              "    <tr style=\"text-align: right;\">\n",
              "      <th></th>\n",
              "      <th>show_id</th>\n",
              "      <th>title</th>\n",
              "      <th>director</th>\n",
              "      <th>cast</th>\n",
              "      <th>country</th>\n",
              "      <th>date_added</th>\n",
              "      <th>release_year</th>\n",
              "      <th>rating</th>\n",
              "      <th>duration</th>\n",
              "      <th>listed_in</th>\n",
              "      <th>description</th>\n",
              "      <th>type</th>\n",
              "    </tr>\n",
              "  </thead>\n",
              "  <tbody>\n",
              "    <tr>\n",
              "      <th>0</th>\n",
              "      <td>81193313</td>\n",
              "      <td>Chocolate</td>\n",
              "      <td>NaN</td>\n",
              "      <td>Ha Ji-won, Yoon Kye-sang, Jang Seung-jo, Kang ...</td>\n",
              "      <td>South Korea</td>\n",
              "      <td>November 30, 2019</td>\n",
              "      <td>2019</td>\n",
              "      <td>TV-14</td>\n",
              "      <td>1 Season</td>\n",
              "      <td>International TV Shows, Korean TV Shows, Roman...</td>\n",
              "      <td>Brought together by meaningful meals in the pa...</td>\n",
              "      <td>TV Show</td>\n",
              "    </tr>\n",
              "    <tr>\n",
              "      <th>1</th>\n",
              "      <td>81197050</td>\n",
              "      <td>Guatemala: Heart of the Mayan World</td>\n",
              "      <td>Luis Ara, Ignacio Jaunsolo</td>\n",
              "      <td>Christian Morales</td>\n",
              "      <td>NaN</td>\n",
              "      <td>November 30, 2019</td>\n",
              "      <td>2019</td>\n",
              "      <td>TV-G</td>\n",
              "      <td>67 min</td>\n",
              "      <td>Documentaries, International Movies</td>\n",
              "      <td>From Sierra de las Minas to Esquipulas, explor...</td>\n",
              "      <td>Movie</td>\n",
              "    </tr>\n",
              "    <tr>\n",
              "      <th>2</th>\n",
              "      <td>81213894</td>\n",
              "      <td>The Zoya Factor</td>\n",
              "      <td>Abhishek Sharma</td>\n",
              "      <td>Sonam Kapoor, Dulquer Salmaan, Sanjay Kapoor, ...</td>\n",
              "      <td>India</td>\n",
              "      <td>November 30, 2019</td>\n",
              "      <td>2019</td>\n",
              "      <td>TV-14</td>\n",
              "      <td>135 min</td>\n",
              "      <td>Comedies, Dramas, International Movies</td>\n",
              "      <td>A goofy copywriter unwittingly convinces the I...</td>\n",
              "      <td>Movie</td>\n",
              "    </tr>\n",
              "    <tr>\n",
              "      <th>3</th>\n",
              "      <td>81082007</td>\n",
              "      <td>Atlantics</td>\n",
              "      <td>Mati Diop</td>\n",
              "      <td>Mama Sane, Amadou Mbow, Ibrahima Traore, Nicol...</td>\n",
              "      <td>France, Senegal, Belgium</td>\n",
              "      <td>November 29, 2019</td>\n",
              "      <td>2019</td>\n",
              "      <td>TV-14</td>\n",
              "      <td>106 min</td>\n",
              "      <td>Dramas, Independent Movies, International Movies</td>\n",
              "      <td>Arranged to marry a rich man, young Ada is cru...</td>\n",
              "      <td>Movie</td>\n",
              "    </tr>\n",
              "    <tr>\n",
              "      <th>4</th>\n",
              "      <td>80213643</td>\n",
              "      <td>Chip and Potato</td>\n",
              "      <td>NaN</td>\n",
              "      <td>Abigail Oliver, Andrea Libman, Briana Buckmast...</td>\n",
              "      <td>Canada, United Kingdom</td>\n",
              "      <td>NaN</td>\n",
              "      <td>2019</td>\n",
              "      <td>TV-Y</td>\n",
              "      <td>2 Seasons</td>\n",
              "      <td>Kids' TV</td>\n",
              "      <td>Lovable pug Chip starts kindergarten, makes ne...</td>\n",
              "      <td>TV Show</td>\n",
              "    </tr>\n",
              "  </tbody>\n",
              "</table>\n",
              "</div>"
            ],
            "text/plain": [
              "    show_id  ...     type\n",
              "0  81193313  ...  TV Show\n",
              "1  81197050  ...    Movie\n",
              "2  81213894  ...    Movie\n",
              "3  81082007  ...    Movie\n",
              "4  80213643  ...  TV Show\n",
              "\n",
              "[5 rows x 12 columns]"
            ]
          },
          "metadata": {},
          "execution_count": 3
        }
      ]
    },
    {
      "cell_type": "code",
      "metadata": {
        "colab": {
          "base_uri": "https://localhost:8080/"
        },
        "id": "-p03BAVdfs_M",
        "outputId": "61ee6580-ba06-42db-a8a8-bb3c92b27f71"
      },
      "source": [
        "df.info()"
      ],
      "execution_count": 4,
      "outputs": [
        {
          "output_type": "stream",
          "name": "stdout",
          "text": [
            "<class 'pandas.core.frame.DataFrame'>\n",
            "RangeIndex: 5837 entries, 0 to 5836\n",
            "Data columns (total 12 columns):\n",
            " #   Column        Non-Null Count  Dtype \n",
            "---  ------        --------------  ----- \n",
            " 0   show_id       5837 non-null   int64 \n",
            " 1   title         5837 non-null   object\n",
            " 2   director      3936 non-null   object\n",
            " 3   cast          5281 non-null   object\n",
            " 4   country       5410 non-null   object\n",
            " 5   date_added    5195 non-null   object\n",
            " 6   release_year  5837 non-null   int64 \n",
            " 7   rating        5827 non-null   object\n",
            " 8   duration      5837 non-null   object\n",
            " 9   listed_in     5837 non-null   object\n",
            " 10  description   5837 non-null   object\n",
            " 11  type          5837 non-null   object\n",
            "dtypes: int64(2), object(10)\n",
            "memory usage: 547.3+ KB\n"
          ]
        }
      ]
    },
    {
      "cell_type": "code",
      "metadata": {
        "colab": {
          "base_uri": "https://localhost:8080/"
        },
        "id": "aSO5he56fwvy",
        "outputId": "59b899b5-e2f5-4914-f2af-947a930db780"
      },
      "source": [
        "df.shape"
      ],
      "execution_count": 5,
      "outputs": [
        {
          "output_type": "execute_result",
          "data": {
            "text/plain": [
              "(5837, 12)"
            ]
          },
          "metadata": {},
          "execution_count": 5
        }
      ]
    },
    {
      "cell_type": "code",
      "metadata": {
        "colab": {
          "base_uri": "https://localhost:8080/",
          "height": 297
        },
        "id": "c6I9Kej5gQBJ",
        "outputId": "fdeb4c55-9c69-4708-870b-bbfb6c0929af"
      },
      "source": [
        "df.describe()"
      ],
      "execution_count": 6,
      "outputs": [
        {
          "output_type": "execute_result",
          "data": {
            "text/html": [
              "<div>\n",
              "<style scoped>\n",
              "    .dataframe tbody tr th:only-of-type {\n",
              "        vertical-align: middle;\n",
              "    }\n",
              "\n",
              "    .dataframe tbody tr th {\n",
              "        vertical-align: top;\n",
              "    }\n",
              "\n",
              "    .dataframe thead th {\n",
              "        text-align: right;\n",
              "    }\n",
              "</style>\n",
              "<table border=\"1\" class=\"dataframe\">\n",
              "  <thead>\n",
              "    <tr style=\"text-align: right;\">\n",
              "      <th></th>\n",
              "      <th>show_id</th>\n",
              "      <th>release_year</th>\n",
              "    </tr>\n",
              "  </thead>\n",
              "  <tbody>\n",
              "    <tr>\n",
              "      <th>count</th>\n",
              "      <td>5.837000e+03</td>\n",
              "      <td>5837.000000</td>\n",
              "    </tr>\n",
              "    <tr>\n",
              "      <th>mean</th>\n",
              "      <td>7.730079e+07</td>\n",
              "      <td>2013.688539</td>\n",
              "    </tr>\n",
              "    <tr>\n",
              "      <th>std</th>\n",
              "      <td>9.479777e+06</td>\n",
              "      <td>8.419088</td>\n",
              "    </tr>\n",
              "    <tr>\n",
              "      <th>min</th>\n",
              "      <td>2.698800e+05</td>\n",
              "      <td>1925.000000</td>\n",
              "    </tr>\n",
              "    <tr>\n",
              "      <th>25%</th>\n",
              "      <td>8.004520e+07</td>\n",
              "      <td>2013.000000</td>\n",
              "    </tr>\n",
              "    <tr>\n",
              "      <th>50%</th>\n",
              "      <td>8.016353e+07</td>\n",
              "      <td>2016.000000</td>\n",
              "    </tr>\n",
              "    <tr>\n",
              "      <th>75%</th>\n",
              "      <td>8.024188e+07</td>\n",
              "      <td>2018.000000</td>\n",
              "    </tr>\n",
              "    <tr>\n",
              "      <th>max</th>\n",
              "      <td>8.122720e+07</td>\n",
              "      <td>2020.000000</td>\n",
              "    </tr>\n",
              "  </tbody>\n",
              "</table>\n",
              "</div>"
            ],
            "text/plain": [
              "            show_id  release_year\n",
              "count  5.837000e+03   5837.000000\n",
              "mean   7.730079e+07   2013.688539\n",
              "std    9.479777e+06      8.419088\n",
              "min    2.698800e+05   1925.000000\n",
              "25%    8.004520e+07   2013.000000\n",
              "50%    8.016353e+07   2016.000000\n",
              "75%    8.024188e+07   2018.000000\n",
              "max    8.122720e+07   2020.000000"
            ]
          },
          "metadata": {},
          "execution_count": 6
        }
      ]
    },
    {
      "cell_type": "code",
      "metadata": {
        "colab": {
          "base_uri": "https://localhost:8080/"
        },
        "id": "vFAIjnMkgdxm",
        "outputId": "c504669a-657d-4558-d759-df8ce24f3327"
      },
      "source": [
        "df.isnull().sum()"
      ],
      "execution_count": 8,
      "outputs": [
        {
          "output_type": "execute_result",
          "data": {
            "text/plain": [
              "show_id            0\n",
              "title              0\n",
              "director        1901\n",
              "cast             556\n",
              "country          427\n",
              "date_added       642\n",
              "release_year       0\n",
              "rating            10\n",
              "duration           0\n",
              "listed_in          0\n",
              "description        0\n",
              "type               0\n",
              "dtype: int64"
            ]
          },
          "metadata": {},
          "execution_count": 8
        }
      ]
    },
    {
      "cell_type": "code",
      "metadata": {
        "colab": {
          "base_uri": "https://localhost:8080/"
        },
        "id": "Jt2W96mZgrFP",
        "outputId": "03125573-ba55-45ef-b162-6a10ed7eecfe"
      },
      "source": [
        "df.columns"
      ],
      "execution_count": 9,
      "outputs": [
        {
          "output_type": "execute_result",
          "data": {
            "text/plain": [
              "Index(['show_id', 'title', 'director', 'cast', 'country', 'date_added',\n",
              "       'release_year', 'rating', 'duration', 'listed_in', 'description',\n",
              "       'type'],\n",
              "      dtype='object')"
            ]
          },
          "metadata": {},
          "execution_count": 9
        }
      ]
    },
    {
      "cell_type": "code",
      "metadata": {
        "colab": {
          "base_uri": "https://localhost:8080/"
        },
        "id": "LdSTr8aPhIL5",
        "outputId": "b857b0e4-064a-4dcb-91a1-5b74ad57305c"
      },
      "source": [
        "#df.duplicated().sum()"
      ],
      "execution_count": 10,
      "outputs": [
        {
          "output_type": "execute_result",
          "data": {
            "text/plain": [
              "0"
            ]
          },
          "metadata": {},
          "execution_count": 10
        }
      ]
    },
    {
      "cell_type": "code",
      "metadata": {
        "colab": {
          "base_uri": "https://localhost:8080/"
        },
        "id": "2Xv_s-VQh6hK",
        "outputId": "647945a0-b79a-409b-b31b-d442c4f89a5a"
      },
      "source": [
        "df['title'].duplicated().sum()\n",
        "# checking duplicated values in title"
      ],
      "execution_count": 23,
      "outputs": [
        {
          "output_type": "execute_result",
          "data": {
            "text/plain": [
              "57"
            ]
          },
          "metadata": {},
          "execution_count": 23
        }
      ]
    },
    {
      "cell_type": "code",
      "metadata": {
        "colab": {
          "base_uri": "https://localhost:8080/"
        },
        "id": "7TOGEXpfiF8U",
        "outputId": "569cc8fa-91aa-4f87-c43b-6826796c09e9"
      },
      "source": [
        "df.nunique()"
      ],
      "execution_count": 14,
      "outputs": [
        {
          "output_type": "execute_result",
          "data": {
            "text/plain": [
              "show_id         5837\n",
              "title           5780\n",
              "director        3108\n",
              "cast            5087\n",
              "country          527\n",
              "date_added      1092\n",
              "release_year      71\n",
              "rating            14\n",
              "duration         194\n",
              "listed_in        449\n",
              "description     5829\n",
              "type               2\n",
              "dtype: int64"
            ]
          },
          "metadata": {},
          "execution_count": 14
        }
      ]
    },
    {
      "cell_type": "code",
      "metadata": {
        "colab": {
          "base_uri": "https://localhost:8080/"
        },
        "id": "M5jN-P70iYdV",
        "outputId": "39ca4ba9-bee8-49b8-b7ea-37fe476a33e5"
      },
      "source": [
        "df['rating'].isnull().sum()\n"
      ],
      "execution_count": 38,
      "outputs": [
        {
          "output_type": "execute_result",
          "data": {
            "text/plain": [
              "10"
            ]
          },
          "metadata": {},
          "execution_count": 38
        }
      ]
    },
    {
      "cell_type": "code",
      "metadata": {
        "colab": {
          "base_uri": "https://localhost:8080/"
        },
        "id": "2633lQ7ljDSX",
        "outputId": "0844ad21-4f14-4dc6-8acf-5ec08f7885d0"
      },
      "source": [
        "df[['country','title','rating']].duplicated().sum()"
      ],
      "execution_count": 40,
      "outputs": [
        {
          "output_type": "execute_result",
          "data": {
            "text/plain": [
              "8"
            ]
          },
          "metadata": {},
          "execution_count": 40
        }
      ]
    },
    {
      "cell_type": "code",
      "metadata": {
        "id": "Voiiq_uZoKIa"
      },
      "source": [
        ""
      ],
      "execution_count": null,
      "outputs": []
    }
  ]
}